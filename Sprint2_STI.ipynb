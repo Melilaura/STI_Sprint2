{
 "cells": [
  {
   "cell_type": "code",
   "execution_count": null,
   "id": "d6a198bb",
   "metadata": {},
   "outputs": [],
   "source": [
    "import pandas as pd\n",
    "import numpy as np\n",
    "import math\n",
    "\n",
    "from tkinter import *\n",
    " \n",
    "root = Tk()\n",
    "root.geometry(\"400x300\")"
   ]
  },
  {
   "cell_type": "code",
   "execution_count": 69,
   "id": "9e8f27e5-350b-4d7c-95d7-fe7e396ff406",
   "metadata": {},
   "outputs": [],
   "source": [
    "database = pd.read_csv('C:/Users/hp/Downloads/Datos_Spritnt2.csv')"
   ]
  },
  {
   "cell_type": "code",
   "execution_count": 70,
   "id": "aaf8fc54-602c-4476-8174-ba725feaef9c",
   "metadata": {},
   "outputs": [
    {
     "name": "stdout",
     "output_type": "stream",
     "text": [
      "  /////////////////////////  José  María  William  Andrea\n",
      "0                   Valor 1  0.20   0.05     0.60    0.58\n",
      "1                   Valor 2  0.85   0.13     0.01    0.03\n",
      "2                   Valor 3  0.22   0.02     0.33    0.56\n",
      "3                   Valor 4  0.58   0.07     0.36    0.98\n"
     ]
    }
   ],
   "source": [
    "print(database)"
   ]
  },
  {
   "cell_type": "code",
   "execution_count": 71,
   "id": "0b01eefc-a356-48ea-906a-0a3dfc330fb6",
   "metadata": {},
   "outputs": [
    {
     "name": "stdout",
     "output_type": "stream",
     "text": [
      "José\n",
      "María\n"
     ]
    }
   ],
   "source": [
    "First_element = \"José\" #@param [\"José\", \"María\", \"William\", \"Andrea\"]\n",
    "\n",
    "print(First_element)\n",
    "\n",
    "Second_element = \"María\" #@param [\"José\", \"María\", \"William\", \"Andrea\"]\n",
    "\n",
    "print(Second_element)\n",
    "\n"
   ]
  },
  {
   "cell_type": "code",
   "execution_count": 72,
   "id": "814019e0",
   "metadata": {},
   "outputs": [
    {
     "ename": "NameError",
     "evalue": "name 'First_value' is not defined",
     "output_type": "error",
     "traceback": [
      "\u001b[1;31m---------------------------------------------------------------------------\u001b[0m",
      "\u001b[1;31mNameError\u001b[0m                                 Traceback (most recent call last)",
      "Input \u001b[1;32mIn [72]\u001b[0m, in \u001b[0;36m<cell line: 1>\u001b[1;34m()\u001b[0m\n\u001b[0;32m      1\u001b[0m \u001b[38;5;28;01mif\u001b[39;00m First_element \u001b[38;5;241m==\u001b[39m \u001b[38;5;124m\"\u001b[39m\u001b[38;5;124mJosé\u001b[39m\u001b[38;5;124m\"\u001b[39m:\n\u001b[1;32m----> 2\u001b[0m   \u001b[43mFirst_value\u001b[49m \u001b[38;5;241m==\u001b[39m database\u001b[38;5;241m.\u001b[39mJosé\n\u001b[0;32m      3\u001b[0m \u001b[38;5;28;01melif\u001b[39;00m First_element \u001b[38;5;241m==\u001b[39m \u001b[38;5;124m\"\u001b[39m\u001b[38;5;124mMaría\u001b[39m\u001b[38;5;124m\"\u001b[39m:\n\u001b[0;32m      4\u001b[0m   First_value \u001b[38;5;241m==\u001b[39m database\u001b[38;5;241m.\u001b[39mMaría\n",
      "\u001b[1;31mNameError\u001b[0m: name 'First_value' is not defined"
     ]
    }
   ],
   "source": [
    "if First_element == \"José\":\n",
    "  First_value == database.José\n",
    "elif First_element == \"María\":\n",
    "  First_value == database.María\n",
    "elif First_element == \"William\":\n",
    "  First_value == database.William\n",
    "elif First_element == \"Andrea\":\n",
    "  First_value == database.Andrea\n",
    "else:\n",
    "  print(\"Valor no disponible\")\n",
    "\n",
    "if Second_element == \"José\":\n",
    "  Second_value == database.José\n",
    "elif Second_element == \"María\":\n",
    "  Second_value == database.María\n",
    "elif Second_element == \"William\":\n",
    "  Second_value == database.William\n",
    "elif Second_element == \"Andrea\":\n",
    "  Second_value == database.Andrea\n",
    "else:\n",
    "  print(\"Valor no disponible\")"
   ]
  },
  {
   "cell_type": "code",
   "execution_count": 73,
   "id": "212a2472",
   "metadata": {},
   "outputs": [
    {
     "ename": "NameError",
     "evalue": "name 'First_value' is not defined",
     "output_type": "error",
     "traceback": [
      "\u001b[1;31m---------------------------------------------------------------------------\u001b[0m",
      "\u001b[1;31mNameError\u001b[0m                                 Traceback (most recent call last)",
      "Input \u001b[1;32mIn [73]\u001b[0m, in \u001b[0;36m<cell line: 1>\u001b[1;34m()\u001b[0m\n\u001b[1;32m----> 1\u001b[0m \u001b[38;5;28mprint\u001b[39m(\u001b[43mFirst_value\u001b[49m)\n\u001b[0;32m      2\u001b[0m \u001b[38;5;28mprint\u001b[39m(Second_value)\n",
      "\u001b[1;31mNameError\u001b[0m: name 'First_value' is not defined"
     ]
    }
   ],
   "source": [
    "print(First_value)\n",
    "print(Second_value)"
   ]
  },
  {
   "cell_type": "code",
   "execution_count": 74,
   "id": "dbee346a",
   "metadata": {},
   "outputs": [
    {
     "ename": "NameError",
     "evalue": "name 'First_value' is not defined",
     "output_type": "error",
     "traceback": [
      "\u001b[1;31m---------------------------------------------------------------------------\u001b[0m",
      "\u001b[1;31mNameError\u001b[0m                                 Traceback (most recent call last)",
      "Input \u001b[1;32mIn [74]\u001b[0m, in \u001b[0;36m<cell line: 1>\u001b[1;34m()\u001b[0m\n\u001b[1;32m----> 1\u001b[0m AB \u001b[38;5;241m=\u001b[39m (\u001b[43mFirst_value\u001b[49m[\u001b[38;5;241m0\u001b[39m] \u001b[38;5;241m*\u001b[39m Second_value[\u001b[38;5;241m0\u001b[39m]) \u001b[38;5;241m+\u001b[39m (First_value[\u001b[38;5;241m1\u001b[39m] \u001b[38;5;241m*\u001b[39m Second_value[\u001b[38;5;241m1\u001b[39m]) \u001b[38;5;241m+\u001b[39m (First_value[\u001b[38;5;241m2\u001b[39m] \u001b[38;5;241m*\u001b[39m Second_value[\u001b[38;5;241m2\u001b[39m]) \u001b[38;5;241m+\u001b[39m (First_value[\u001b[38;5;241m3\u001b[39m] \u001b[38;5;241m*\u001b[39m Second_value[\u001b[38;5;241m3\u001b[39m]) \u001b[38;5;241m+\u001b[39m (First_value[\u001b[38;5;241m4\u001b[39m] \u001b[38;5;241m*\u001b[39m Second_value[\u001b[38;5;241m4\u001b[39m]) \u001b[38;5;241m+\u001b[39m (First_value[\u001b[38;5;241m5\u001b[39m] \u001b[38;5;241m*\u001b[39m Second_value[\u001b[38;5;241m5\u001b[39m])\n\u001b[0;32m      3\u001b[0m \u001b[38;5;28mprint\u001b[39m(AB)\n\u001b[0;32m      5\u001b[0m Ap \u001b[38;5;241m=\u001b[39m math\u001b[38;5;241m.\u001b[39msqrt((First_value[\u001b[38;5;241m0\u001b[39m]\u001b[38;5;241m*\u001b[39m\u001b[38;5;241m*\u001b[39m\u001b[38;5;241m2\u001b[39m) \u001b[38;5;241m+\u001b[39m (First_value[\u001b[38;5;241m1\u001b[39m]\u001b[38;5;241m*\u001b[39m\u001b[38;5;241m*\u001b[39m\u001b[38;5;241m2\u001b[39m) \u001b[38;5;241m+\u001b[39m (First_value[\u001b[38;5;241m2\u001b[39m]\u001b[38;5;241m*\u001b[39m\u001b[38;5;241m*\u001b[39m\u001b[38;5;241m2\u001b[39m) \u001b[38;5;241m+\u001b[39m (First_value[\u001b[38;5;241m3\u001b[39m]\u001b[38;5;241m*\u001b[39m\u001b[38;5;241m*\u001b[39m\u001b[38;5;241m2\u001b[39m) \u001b[38;5;241m+\u001b[39m (First_value[\u001b[38;5;241m4\u001b[39m]\u001b[38;5;241m*\u001b[39m\u001b[38;5;241m*\u001b[39m\u001b[38;5;241m2\u001b[39m) \u001b[38;5;241m+\u001b[39m (First_value[\u001b[38;5;241m5\u001b[39m]\u001b[38;5;241m*\u001b[39m\u001b[38;5;241m*\u001b[39m\u001b[38;5;241m2\u001b[39m))\n",
      "\u001b[1;31mNameError\u001b[0m: name 'First_value' is not defined"
     ]
    }
   ],
   "source": [
    "AB = (First_value[0] * Second_value[0]) + (First_value[1] * Second_value[1]) + (First_value[2] * Second_value[2]) + (First_value[3] * Second_value[3]) + (First_value[4] * Second_value[4]) + (First_value[5] * Second_value[5])\n",
    "\n",
    "print(AB)\n",
    "\n",
    "Ap = math.sqrt((First_value[0]**2) + (First_value[1]**2) + (First_value[2]**2) + (First_value[3]**2) + (First_value[4]**2) + (First_value[5]**2))\n",
    "Bp = math.sqrt((Second_value[0]**2) + (Second_value[1]**2) + (Second_value[2]**2) + (Second_value[3]**2) + (Second_value[4]**2) + (Second_value[5]**2))\n",
    "print(Ap)\n",
    "print(Bp)\n",
    "\n",
    "Cos = AB/(Ap * Bp)\n",
    "print(\"------------------------------------------------------------\")\n",
    "print(\"El valor del coseno es:\")\n",
    "print(Cos)"
   ]
  },
  {
   "cell_type": "code",
   "execution_count": null,
   "id": "b44818f1",
   "metadata": {},
   "outputs": [],
   "source": []
  },
  {
   "cell_type": "code",
   "execution_count": null,
   "id": "8f415a25",
   "metadata": {},
   "outputs": [],
   "source": []
  }
 ],
 "metadata": {
  "kernelspec": {
   "display_name": "Python 3 (ipykernel)",
   "language": "python",
   "name": "python3"
  },
  "language_info": {
   "codemirror_mode": {
    "name": "ipython",
    "version": 3
   },
   "file_extension": ".py",
   "mimetype": "text/x-python",
   "name": "python",
   "nbconvert_exporter": "python",
   "pygments_lexer": "ipython3",
   "version": "3.9.12"
  }
 },
 "nbformat": 4,
 "nbformat_minor": 5
}
